{
 "cells": [
  {
   "cell_type": "markdown",
   "id": "f9b59168",
   "metadata": {},
   "source": [
    "- what is the percentage of people that was hired?\n",
    "- what is the most popular characteristics of people that was hired?\n",
    "- Which sex is rather to be hired? male or female?\n",
    "- what is the most popular age range that is hired?\n",
    "- what is the minumum grade that you have to take in exam to be hired?\n",
    "- What is the best model to classify if a person is going to be hired or not?\n"
   ]
  },
  {
   "cell_type": "markdown",
   "id": "6b5b737f",
   "metadata": {},
   "source": [
    "# First, let's do Exploratory Data Analysis"
   ]
  },
  {
   "cell_type": "code",
   "execution_count": 1,
   "id": "eeefd129",
   "metadata": {},
   "outputs": [],
   "source": [
    "# Importing necessary libraries\n",
    "\n",
    "import pandas as pd\n",
    "import matplotlib.pyplot as plt\n",
    "import seaborn as sns"
   ]
  },
  {
   "cell_type": "code",
   "execution_count": 2,
   "id": "f8e1c3de",
   "metadata": {},
   "outputs": [
    {
     "data": {
      "text/html": [
       "<div>\n",
       "<style scoped>\n",
       "    .dataframe tbody tr th:only-of-type {\n",
       "        vertical-align: middle;\n",
       "    }\n",
       "\n",
       "    .dataframe tbody tr th {\n",
       "        vertical-align: top;\n",
       "    }\n",
       "\n",
       "    .dataframe thead th {\n",
       "        text-align: right;\n",
       "    }\n",
       "</style>\n",
       "<table border=\"1\" class=\"dataframe\">\n",
       "  <thead>\n",
       "    <tr style=\"text-align: right;\">\n",
       "      <th></th>\n",
       "      <th>date</th>\n",
       "      <th>cheveux</th>\n",
       "      <th>age</th>\n",
       "      <th>exp</th>\n",
       "      <th>salaire</th>\n",
       "      <th>sexe</th>\n",
       "      <th>diplome</th>\n",
       "      <th>specialite</th>\n",
       "      <th>note</th>\n",
       "      <th>dispo</th>\n",
       "      <th>embauche</th>\n",
       "    </tr>\n",
       "  </thead>\n",
       "  <tbody>\n",
       "    <tr>\n",
       "      <th>0</th>\n",
       "      <td>2012-06-02</td>\n",
       "      <td>roux</td>\n",
       "      <td>25.0</td>\n",
       "      <td>9.0</td>\n",
       "      <td>26803.0</td>\n",
       "      <td>F</td>\n",
       "      <td>licence</td>\n",
       "      <td>geologie</td>\n",
       "      <td>97.08</td>\n",
       "      <td>non</td>\n",
       "      <td>0</td>\n",
       "    </tr>\n",
       "    <tr>\n",
       "      <th>1</th>\n",
       "      <td>2011-04-21</td>\n",
       "      <td>blond</td>\n",
       "      <td>35.0</td>\n",
       "      <td>13.0</td>\n",
       "      <td>38166.0</td>\n",
       "      <td>M</td>\n",
       "      <td>licence</td>\n",
       "      <td>forage</td>\n",
       "      <td>63.86</td>\n",
       "      <td>non</td>\n",
       "      <td>0</td>\n",
       "    </tr>\n",
       "    <tr>\n",
       "      <th>2</th>\n",
       "      <td>2012-09-07</td>\n",
       "      <td>blond</td>\n",
       "      <td>29.0</td>\n",
       "      <td>13.0</td>\n",
       "      <td>35207.0</td>\n",
       "      <td>M</td>\n",
       "      <td>licence</td>\n",
       "      <td>geologie</td>\n",
       "      <td>78.50</td>\n",
       "      <td>non</td>\n",
       "      <td>0</td>\n",
       "    </tr>\n",
       "    <tr>\n",
       "      <th>3</th>\n",
       "      <td>2011-07-01</td>\n",
       "      <td>brun</td>\n",
       "      <td>NaN</td>\n",
       "      <td>12.0</td>\n",
       "      <td>32442.0</td>\n",
       "      <td>M</td>\n",
       "      <td>licence</td>\n",
       "      <td>geologie</td>\n",
       "      <td>45.09</td>\n",
       "      <td>non</td>\n",
       "      <td>0</td>\n",
       "    </tr>\n",
       "    <tr>\n",
       "      <th>4</th>\n",
       "      <td>2012-08-07</td>\n",
       "      <td>roux</td>\n",
       "      <td>35.0</td>\n",
       "      <td>6.0</td>\n",
       "      <td>28533.0</td>\n",
       "      <td>F</td>\n",
       "      <td>licence</td>\n",
       "      <td>detective</td>\n",
       "      <td>81.91</td>\n",
       "      <td>non</td>\n",
       "      <td>0</td>\n",
       "    </tr>\n",
       "    <tr>\n",
       "      <th>...</th>\n",
       "      <td>...</td>\n",
       "      <td>...</td>\n",
       "      <td>...</td>\n",
       "      <td>...</td>\n",
       "      <td>...</td>\n",
       "      <td>...</td>\n",
       "      <td>...</td>\n",
       "      <td>...</td>\n",
       "      <td>...</td>\n",
       "      <td>...</td>\n",
       "      <td>...</td>\n",
       "    </tr>\n",
       "    <tr>\n",
       "      <th>19995</th>\n",
       "      <td>2012-03-10</td>\n",
       "      <td>roux</td>\n",
       "      <td>47.0</td>\n",
       "      <td>9.0</td>\n",
       "      <td>35723.0</td>\n",
       "      <td>M</td>\n",
       "      <td>licence</td>\n",
       "      <td>geologie</td>\n",
       "      <td>66.47</td>\n",
       "      <td>non</td>\n",
       "      <td>0</td>\n",
       "    </tr>\n",
       "    <tr>\n",
       "      <th>19996</th>\n",
       "      <td>2010-09-19</td>\n",
       "      <td>chatain</td>\n",
       "      <td>38.0</td>\n",
       "      <td>10.0</td>\n",
       "      <td>33570.0</td>\n",
       "      <td>F</td>\n",
       "      <td>master</td>\n",
       "      <td>geologie</td>\n",
       "      <td>62.29</td>\n",
       "      <td>non</td>\n",
       "      <td>1</td>\n",
       "    </tr>\n",
       "    <tr>\n",
       "      <th>19997</th>\n",
       "      <td>2010-09-02</td>\n",
       "      <td>chatain</td>\n",
       "      <td>23.0</td>\n",
       "      <td>6.0</td>\n",
       "      <td>33751.0</td>\n",
       "      <td>F</td>\n",
       "      <td>doctorat</td>\n",
       "      <td>detective</td>\n",
       "      <td>103.48</td>\n",
       "      <td>oui</td>\n",
       "      <td>0</td>\n",
       "    </tr>\n",
       "    <tr>\n",
       "      <th>19998</th>\n",
       "      <td>2011-12-06</td>\n",
       "      <td>chatain</td>\n",
       "      <td>33.0</td>\n",
       "      <td>11.0</td>\n",
       "      <td>34167.0</td>\n",
       "      <td>F</td>\n",
       "      <td>licence</td>\n",
       "      <td>detective</td>\n",
       "      <td>73.35</td>\n",
       "      <td>non</td>\n",
       "      <td>0</td>\n",
       "    </tr>\n",
       "    <tr>\n",
       "      <th>19999</th>\n",
       "      <td>2010-11-29</td>\n",
       "      <td>brun</td>\n",
       "      <td>35.0</td>\n",
       "      <td>14.0</td>\n",
       "      <td>44499.0</td>\n",
       "      <td>M</td>\n",
       "      <td>bac</td>\n",
       "      <td>geologie</td>\n",
       "      <td>45.62</td>\n",
       "      <td>non</td>\n",
       "      <td>0</td>\n",
       "    </tr>\n",
       "  </tbody>\n",
       "</table>\n",
       "<p>20000 rows × 11 columns</p>\n",
       "</div>"
      ],
      "text/plain": [
       "             date  cheveux   age   exp  salaire sexe   diplome specialite  \\\n",
       "0      2012-06-02     roux  25.0   9.0  26803.0    F   licence   geologie   \n",
       "1      2011-04-21    blond  35.0  13.0  38166.0    M   licence     forage   \n",
       "2      2012-09-07    blond  29.0  13.0  35207.0    M   licence   geologie   \n",
       "3      2011-07-01     brun   NaN  12.0  32442.0    M   licence   geologie   \n",
       "4      2012-08-07     roux  35.0   6.0  28533.0    F   licence  detective   \n",
       "...           ...      ...   ...   ...      ...  ...       ...        ...   \n",
       "19995  2012-03-10     roux  47.0   9.0  35723.0    M   licence   geologie   \n",
       "19996  2010-09-19  chatain  38.0  10.0  33570.0    F    master   geologie   \n",
       "19997  2010-09-02  chatain  23.0   6.0  33751.0    F  doctorat  detective   \n",
       "19998  2011-12-06  chatain  33.0  11.0  34167.0    F   licence  detective   \n",
       "19999  2010-11-29     brun  35.0  14.0  44499.0    M       bac   geologie   \n",
       "\n",
       "         note dispo  embauche  \n",
       "0       97.08   non         0  \n",
       "1       63.86   non         0  \n",
       "2       78.50   non         0  \n",
       "3       45.09   non         0  \n",
       "4       81.91   non         0  \n",
       "...       ...   ...       ...  \n",
       "19995   66.47   non         0  \n",
       "19996   62.29   non         1  \n",
       "19997  103.48   oui         0  \n",
       "19998   73.35   non         0  \n",
       "19999   45.62   non         0  \n",
       "\n",
       "[20000 rows x 11 columns]"
      ]
     },
     "execution_count": 2,
     "metadata": {},
     "output_type": "execute_result"
    }
   ],
   "source": [
    "# Importing the dataset and showing what it is like\n",
    "\n",
    "file1 = pd.read_csv(\"data.csv\", index_col=0)\n",
    "file1"
   ]
  },
  {
   "cell_type": "code",
   "execution_count": 3,
   "id": "64f9954d",
   "metadata": {},
   "outputs": [
    {
     "data": {
      "text/plain": [
       "pandas.core.frame.DataFrame"
      ]
     },
     "execution_count": 3,
     "metadata": {},
     "output_type": "execute_result"
    }
   ],
   "source": [
    "# Checking dataset type\n",
    "\n",
    "type(file1)"
   ]
  },
  {
   "cell_type": "code",
   "execution_count": 4,
   "id": "a3073512",
   "metadata": {},
   "outputs": [
    {
     "data": {
      "text/plain": [
       "(20000, 11)"
      ]
     },
     "execution_count": 4,
     "metadata": {},
     "output_type": "execute_result"
    }
   ],
   "source": [
    "# Checking dataset shape\n",
    "\n",
    "file1.shape"
   ]
  },
  {
   "cell_type": "code",
   "execution_count": 5,
   "id": "a85fa61c",
   "metadata": {},
   "outputs": [
    {
     "name": "stdout",
     "output_type": "stream",
     "text": [
      "<class 'pandas.core.frame.DataFrame'>\n",
      "Int64Index: 20000 entries, 0 to 19999\n",
      "Data columns (total 11 columns):\n",
      " #   Column      Non-Null Count  Dtype  \n",
      "---  ------      --------------  -----  \n",
      " 0   date        19909 non-null  object \n",
      " 1   cheveux     19897 non-null  object \n",
      " 2   age         19909 non-null  float64\n",
      " 3   exp         19904 non-null  float64\n",
      " 4   salaire     19905 non-null  float64\n",
      " 5   sexe        19900 non-null  object \n",
      " 6   diplome     19890 non-null  object \n",
      " 7   specialite  19907 non-null  object \n",
      " 8   note        19886 non-null  float64\n",
      " 9   dispo       19894 non-null  object \n",
      " 10  embauche    20000 non-null  int64  \n",
      "dtypes: float64(4), int64(1), object(6)\n",
      "memory usage: 1.8+ MB\n"
     ]
    }
   ],
   "source": [
    "# Checking variables (columns) data type\n",
    "\n",
    "file1.info()"
   ]
  },
  {
   "cell_type": "code",
   "execution_count": 6,
   "id": "d18d8296",
   "metadata": {},
   "outputs": [
    {
     "name": "stdout",
     "output_type": "stream",
     "text": [
      "Number of duplicated rows =  (0, 11)\n"
     ]
    }
   ],
   "source": [
    "# Checking if there is any duplicated rows\n",
    "\n",
    "duplicates_row = file1[file1.duplicated()]\n",
    "print(\"Number of duplicated rows = \", duplicates_row.shape)\n",
    "\n",
    "# It seems like there is no duplicates"
   ]
  },
  {
   "cell_type": "code",
   "execution_count": 7,
   "id": "eb25abd3",
   "metadata": {},
   "outputs": [
    {
     "name": "stdout",
     "output_type": "stream",
     "text": [
      "date\n",
      "['2012-06-02' '2011-04-21' '2012-09-07' ... '2011-03-04' '2014-08-26'\n",
      " '2011-07-11']\n",
      "\n",
      "\n",
      "cheveux\n",
      "['roux' 'blond' 'brun' 'chatain' nan]\n",
      "\n",
      "\n",
      "age\n",
      "[25. 35. 29. nan 37. 33. 31. 43. 28. 50. 44. 39. 23. 38. 30. 42. 27. 19.\n",
      " 40. 49. 26. 59. 41. 34. 24. 16. 36. 48. 47. 53. 20. 22. 54. 46. 45. 61.\n",
      " 21. 56. 14. 32. 55. 52. 65. 10. 51. 17. 12. 13.  8. 15. 57. 62. 18. 58.\n",
      "  5. 67. 63.  6.  9. 11.  3. -1. 69. 64.  4. 60.  2.  7. -3. 72. 66. 71.\n",
      "  0. 74.  1. 68. -2.]\n",
      "\n",
      "\n",
      "exp\n",
      "[ 9. 13. 12.  6.  8. 10. 11.  4. 14.  3.  7. 15.  5. 16.  2. 17.  0. nan\n",
      "  1. 21. 18. 19. 20. -1. 23. -2.]\n",
      "\n",
      "\n",
      "salaire\n",
      "[26803. 38166. 35207. ... 39591. 41107. 44499.]\n",
      "\n",
      "\n",
      "sexe\n",
      "['F' 'M' nan]\n",
      "\n",
      "\n",
      "diplome\n",
      "['licence' 'master' 'doctorat' 'bac' nan]\n",
      "\n",
      "\n",
      "specialite\n",
      "['geologie' 'forage' 'detective' 'archeologie' nan]\n",
      "\n",
      "\n",
      "note\n",
      "[ 97.08  63.86  78.5  ...  23.51 103.48  45.62]\n",
      "\n",
      "\n",
      "dispo\n",
      "['non' 'oui' nan]\n",
      "\n",
      "\n",
      "embauche\n",
      "[0 1]\n",
      "\n",
      "\n"
     ]
    }
   ],
   "source": [
    "# Printing values to see if there in \"nan\" value\n",
    "\n",
    "print(\"date\")\n",
    "print(file1.date.unique())\n",
    "print(\"\\n\")\n",
    "print(\"cheveux\")\n",
    "print(file1.cheveux.unique())\n",
    "print(\"\\n\")\n",
    "print(\"age\")\n",
    "print(file1.age.unique())\n",
    "print(\"\\n\")\n",
    "print(\"exp\")\n",
    "print(file1.exp.unique())\n",
    "print(\"\\n\")\n",
    "print(\"salaire\")\n",
    "print(file1.salaire.unique())\n",
    "print(\"\\n\")\n",
    "print(\"sexe\")\n",
    "print(file1.sexe.unique())\n",
    "print(\"\\n\")\n",
    "print(\"diplome\")\n",
    "print(file1.diplome.unique())\n",
    "print(\"\\n\")\n",
    "print(\"specialite\")\n",
    "print(file1.specialite.unique())\n",
    "print(\"\\n\")\n",
    "print(\"note\")\n",
    "print(file1.note.unique())\n",
    "print(\"\\n\")\n",
    "print(\"dispo\")\n",
    "print(file1.dispo.unique())\n",
    "print(\"\\n\")\n",
    "print(\"embauche\")\n",
    "print(file1.embauche.unique())\n",
    "print(\"\\n\")\n",
    "\n",
    "# Looks like we have \"nan\" values here"
   ]
  },
  {
   "cell_type": "code",
   "execution_count": 8,
   "id": "9f64a4f7",
   "metadata": {},
   "outputs": [
    {
     "name": "stdout",
     "output_type": "stream",
     "text": [
      "date           91\n",
      "cheveux       103\n",
      "age            91\n",
      "exp            96\n",
      "salaire        95\n",
      "sexe          100\n",
      "diplome       110\n",
      "specialite     93\n",
      "note          114\n",
      "dispo         106\n",
      "embauche        0\n",
      "dtype: int64\n"
     ]
    }
   ],
   "source": [
    "# Checking how many null values do we have in this dataset\n",
    "\n",
    "print(file1.isnull().sum())"
   ]
  },
  {
   "cell_type": "code",
   "execution_count": 9,
   "id": "5bf5c47a",
   "metadata": {
    "scrolled": true
   },
   "outputs": [
    {
     "name": "stderr",
     "output_type": "stream",
     "text": [
      "/var/folders/qb/0lynxgl11t3f9hxpry_kvf2h0000gn/T/ipykernel_5314/882293988.py:5: FutureWarning: Dropping of nuisance columns in DataFrame reductions (with 'numeric_only=None') is deprecated; in a future version this will raise TypeError.  Select only valid columns before calling the reduction.\n",
      "  file1.fillna(file1.mean(), inplace=True)\n"
     ]
    }
   ],
   "source": [
    "# We have a lot of null values. When we want to build a model the null values will not very useful.\n",
    "# So, we are going to use \"Imputation method with Mean()\" to solve this problem.\n",
    "# Let's put mean values to these null values.\n",
    "\n",
    "file1.fillna(file1.mean(), inplace=True)"
   ]
  },
  {
   "cell_type": "code",
   "execution_count": 10,
   "id": "82c08e28",
   "metadata": {},
   "outputs": [
    {
     "name": "stdout",
     "output_type": "stream",
     "text": [
      "date           91\n",
      "cheveux       103\n",
      "age             0\n",
      "exp             0\n",
      "salaire         0\n",
      "sexe          100\n",
      "diplome       110\n",
      "specialite     93\n",
      "note            0\n",
      "dispo         106\n",
      "embauche        0\n",
      "dtype: int64\n"
     ]
    }
   ],
   "source": [
    "# Now we have filled some of null values. But we still have a lot.\n",
    "# Which is the values that are in categorical variables. They can't be used to calculate mean().\n",
    "# So, we have to use other method to solve this.\n",
    "\n",
    "print(file1.isnull().sum())"
   ]
  },
  {
   "cell_type": "code",
   "execution_count": 11,
   "id": "810877f4",
   "metadata": {},
   "outputs": [
    {
     "name": "stdout",
     "output_type": "stream",
     "text": [
      "date          0\n",
      "cheveux       0\n",
      "age           0\n",
      "exp           0\n",
      "salaire       0\n",
      "sexe          0\n",
      "diplome       0\n",
      "specialite    0\n",
      "note          0\n",
      "dispo         0\n",
      "embauche      0\n",
      "dtype: int64\n"
     ]
    }
   ],
   "source": [
    "# Lets impute these null values with most frequent values in the dataset\n",
    "# We do it because they are categorical values\n",
    "\n",
    "for col in file1.columns:\n",
    "    if file1[col].dtypes == 'object':\n",
    "        # Impute with the most frequent value\n",
    "        file1 = file1.apply(lambda x:x.fillna(x.value_counts().index[0]))\n",
    "# Count the number of NaNs in the dataset and print the counts to verify\n",
    "print(file1.isnull().sum())\n",
    "\n",
    "# Seems like we have solved this problem"
   ]
  },
  {
   "cell_type": "code",
   "execution_count": 12,
   "id": "a3b2f79b",
   "metadata": {},
   "outputs": [],
   "source": [
    "file1[\"date\"] = pd.to_datetime(file1.date, dayfirst = True)\n"
   ]
  },
  {
   "cell_type": "code",
   "execution_count": 13,
   "id": "354dae09",
   "metadata": {},
   "outputs": [
    {
     "data": {
      "text/plain": [
       "0       2012-06-02\n",
       "1       2011-04-21\n",
       "2       2012-09-07\n",
       "3       2011-07-01\n",
       "4       2012-08-07\n",
       "           ...    \n",
       "19995   2012-03-10\n",
       "19996   2010-09-19\n",
       "19997   2010-09-02\n",
       "19998   2011-12-06\n",
       "19999   2010-11-29\n",
       "Name: date, Length: 20000, dtype: datetime64[ns]"
      ]
     },
     "execution_count": 13,
     "metadata": {},
     "output_type": "execute_result"
    }
   ],
   "source": [
    "file1[\"date\"]\n"
   ]
  },
  {
   "cell_type": "code",
   "execution_count": 14,
   "id": "a4cd1bb3",
   "metadata": {},
   "outputs": [
    {
     "name": "stdout",
     "output_type": "stream",
     "text": [
      "date\n",
      "['2012-06-02T00:00:00.000000000' '2011-04-21T00:00:00.000000000'\n",
      " '2012-09-07T00:00:00.000000000' ... '2011-03-04T00:00:00.000000000'\n",
      " '2014-08-26T00:00:00.000000000' '2011-07-11T00:00:00.000000000']\n",
      "\n",
      "\n",
      "cheveux\n",
      "['roux' 'blond' 'brun' 'chatain']\n",
      "\n",
      "\n",
      "age\n",
      "[25.         35.         29.         35.00452057 37.         33.\n",
      " 31.         43.         28.         50.         44.         39.\n",
      " 23.         38.         30.         42.         27.         19.\n",
      " 40.         49.         26.         59.         41.         34.\n",
      " 24.         16.         36.         48.         47.         53.\n",
      " 20.         22.         54.         46.         45.         61.\n",
      " 21.         56.         14.         32.         55.         52.\n",
      " 65.         10.         51.         17.         12.         13.\n",
      "  8.         15.         57.         62.         18.         58.\n",
      "  5.         67.         63.          6.          9.         11.\n",
      "  3.         -1.         69.         64.          4.         60.\n",
      "  2.          7.         -3.         72.         66.         71.\n",
      "  0.         74.          1.         68.         -2.        ]\n",
      "\n",
      "\n",
      "exp\n",
      "[ 9.         13.         12.          6.          8.         10.\n",
      " 11.          4.         14.          3.          7.         15.\n",
      "  5.         16.          2.         17.          0.          9.50035169\n",
      "  1.         21.         18.         19.         20.         -1.\n",
      " 23.         -2.        ]\n",
      "\n",
      "\n",
      "salaire\n",
      "[26803. 38166. 35207. ... 39591. 41107. 44499.]\n",
      "\n",
      "\n",
      "sexe\n",
      "['F' 'M']\n",
      "\n",
      "\n",
      "diplome\n",
      "['licence' 'master' 'doctorat' 'bac']\n",
      "\n",
      "\n",
      "specialite\n",
      "['geologie' 'forage' 'detective' 'archeologie']\n",
      "\n",
      "\n",
      "note\n",
      "[ 97.08  63.86  78.5  ...  23.51 103.48  45.62]\n",
      "\n",
      "\n",
      "dispo\n",
      "['non' 'oui']\n",
      "\n",
      "\n",
      "embauche\n",
      "[0 1]\n",
      "\n",
      "\n"
     ]
    }
   ],
   "source": [
    "# Now, let's check if there is any \"nan\" in the dataset.\n",
    "\n",
    "print(\"date\")\n",
    "print(file1.date.unique())\n",
    "print(\"\\n\")\n",
    "print(\"cheveux\")\n",
    "print(file1.cheveux.unique())\n",
    "print(\"\\n\")\n",
    "print(\"age\")\n",
    "print(file1.age.unique())\n",
    "print(\"\\n\")\n",
    "print(\"exp\")\n",
    "print(file1.exp.unique())\n",
    "print(\"\\n\")\n",
    "print(\"salaire\")\n",
    "print(file1.salaire.unique())\n",
    "print(\"\\n\")\n",
    "print(\"sexe\")\n",
    "print(file1.sexe.unique())\n",
    "print(\"\\n\")\n",
    "print(\"diplome\")\n",
    "print(file1.diplome.unique())\n",
    "print(\"\\n\")\n",
    "print(\"specialite\")\n",
    "print(file1.specialite.unique())\n",
    "print(\"\\n\")\n",
    "print(\"note\")\n",
    "print(file1.note.unique())\n",
    "print(\"\\n\")\n",
    "print(\"dispo\")\n",
    "print(file1.dispo.unique())\n",
    "print(\"\\n\")\n",
    "print(\"embauche\")\n",
    "print(file1.embauche.unique())\n",
    "print(\"\\n\")\n",
    "\n",
    "# Seems like we don't have any."
   ]
  },
  {
   "cell_type": "code",
   "execution_count": 15,
   "id": "35c47eba",
   "metadata": {},
   "outputs": [
    {
     "name": "stdout",
     "output_type": "stream",
     "text": [
      "date          0\n",
      "cheveux       0\n",
      "age           0\n",
      "exp           0\n",
      "salaire       0\n",
      "sexe          0\n",
      "diplome       0\n",
      "specialite    0\n",
      "note          0\n",
      "dispo         0\n",
      "embauche      0\n",
      "dtype: int64\n"
     ]
    }
   ],
   "source": [
    "print(file1.isnull().sum())\n",
    "\n",
    "# Just checking again kkkkk"
   ]
  },
  {
   "cell_type": "code",
   "execution_count": 16,
   "id": "6579377e",
   "metadata": {},
   "outputs": [
    {
     "name": "stdout",
     "output_type": "stream",
     "text": [
      "<class 'pandas.core.frame.DataFrame'>\n",
      "Int64Index: 20000 entries, 0 to 19999\n",
      "Data columns (total 11 columns):\n",
      " #   Column      Non-Null Count  Dtype         \n",
      "---  ------      --------------  -----         \n",
      " 0   date        20000 non-null  datetime64[ns]\n",
      " 1   cheveux     20000 non-null  object        \n",
      " 2   age         20000 non-null  float64       \n",
      " 3   exp         20000 non-null  float64       \n",
      " 4   salaire     20000 non-null  float64       \n",
      " 5   sexe        20000 non-null  object        \n",
      " 6   diplome     20000 non-null  object        \n",
      " 7   specialite  20000 non-null  object        \n",
      " 8   note        20000 non-null  float64       \n",
      " 9   dispo       20000 non-null  object        \n",
      " 10  embauche    20000 non-null  int64         \n",
      "dtypes: datetime64[ns](1), float64(4), int64(1), object(5)\n",
      "memory usage: 1.8+ MB\n"
     ]
    },
    {
     "data": {
      "text/plain": [
       "(20000, 11)"
      ]
     },
     "execution_count": 16,
     "metadata": {},
     "output_type": "execute_result"
    }
   ],
   "source": [
    "# Now, let's see if all the columns are completed. Another checking method\n",
    "\n",
    "file1.info()\n",
    "file1.shape"
   ]
  },
  {
   "cell_type": "code",
   "execution_count": 17,
   "id": "2b2c40cd",
   "metadata": {},
   "outputs": [
    {
     "data": {
      "text/plain": [
       "<AxesSubplot:>"
      ]
     },
     "execution_count": 17,
     "metadata": {},
     "output_type": "execute_result"
    },
    {
     "data": {
      "image/png": "[encoded data removed]",
      "text/plain": [
       "<Figure size 432x288 with 1 Axes>"
      ]
     },
     "metadata": {
      "needs_background": "light"
     },
     "output_type": "display_data"
    }
   ],
   "source": [
    "#Seeing visually if there is any null value \n",
    "\n",
    "sns.heatmap(file1.isnull(), cbar=False, yticklabels=False, cmap=\"viridis\")"
   ]
  },
  {
   "cell_type": "code",
   "execution_count": 18,
   "id": "01d090b4",
   "metadata": {},
   "outputs": [
    {
     "data": {
      "text/plain": [
       "Index(['date', 'cheveux', 'age', 'exp', 'salaire', 'sexe', 'diplome',\n",
       "       'specialite', 'note', 'dispo', 'embauche'],\n",
       "      dtype='object')"
      ]
     },
     "execution_count": 18,
     "metadata": {},
     "output_type": "execute_result"
    }
   ],
   "source": [
    "# Just seeing dataset columns\n",
    "\n",
    "file1.columns"
   ]
  },
  {
   "cell_type": "code",
   "execution_count": 19,
   "id": "b420d9d6",
   "metadata": {},
   "outputs": [
    {
     "name": "stdout",
     "output_type": "stream",
     "text": [
      "Age:\n",
      "35.00452056858701\n",
      "35.0\n",
      "\n",
      "\n",
      "Experience:\n",
      "9.500351688102878\n",
      "9.0\n",
      "\n",
      "\n",
      "Salary:\n",
      "34974.34393368505\n",
      "34974.343933685006\n",
      "\n",
      "\n",
      "Grade:\n",
      "75.16876194307513\n",
      "75.16876194307517\n",
      "\n",
      "\n",
      "Hired:\n",
      "0.1146\n",
      "0.0\n",
      "\n",
      "\n"
     ]
    }
   ],
   "source": [
    "# Seeing what is the value of mean and median of each column\n",
    "\n",
    "print(\"Age:\")\n",
    "print(file1[\"age\"].mean())\n",
    "print(file1[\"age\"].median())\n",
    "print(\"\\n\")\n",
    "\n",
    "print(\"Experience:\")\n",
    "print(file1[\"exp\"].mean())\n",
    "print(file1[\"exp\"].median())\n",
    "print(\"\\n\")\n",
    "\n",
    "print(\"Salary:\")\n",
    "print(file1[\"salaire\"].mean())\n",
    "print(file1[\"salaire\"].median())\n",
    "print(\"\\n\")\n",
    "\n",
    "print(\"Grade:\")\n",
    "print(file1[\"note\"].mean())\n",
    "print(file1[\"note\"].median())\n",
    "print(\"\\n\")\n",
    "\n",
    "print(\"Hired:\")\n",
    "print(file1[\"embauche\"].mean())\n",
    "print(file1[\"embauche\"].median())\n",
    "print(\"\\n\")"
   ]
  },
  {
   "cell_type": "code",
   "execution_count": 20,
   "id": "dadef534",
   "metadata": {},
   "outputs": [
    {
     "data": {
      "text/plain": [
       "<AxesSubplot:ylabel='Frequency'>"
      ]
     },
     "execution_count": 20,
     "metadata": {},
     "output_type": "execute_result"
    },
    {
     "data": {
      "image/png": "[encoded data removed]",
      "text/plain": [
       "<Figure size 432x288 with 1 Axes>"
      ]
     },
     "metadata": {
      "needs_background": "light"
     },
     "output_type": "display_data"
    }
   ],
   "source": [
    "# Plotting histogram of a variable\n",
    "\n",
    "file1.age.plot(kind=\"hist\")"
   ]
  },
  {
   "cell_type": "code",
   "execution_count": 21,
   "id": "4b33d39a",
   "metadata": {},
   "outputs": [
    {
     "data": {
      "text/plain": [
       "<AxesSubplot:ylabel='Frequency'>"
      ]
     },
     "execution_count": 21,
     "metadata": {},
     "output_type": "execute_result"
    },
    {
     "data": {
      "image/png": "[encoded data removed]",
      "text/plain": [
       "<Figure size 432x288 with 1 Axes>"
      ]
     },
     "metadata": {
      "needs_background": "light"
     },
     "output_type": "display_data"
    }
   ],
   "source": [
    "# Plotting histogram of a variable\n",
    "\n",
    "file1.exp.plot(kind=\"hist\")"
   ]
  },
  {
   "cell_type": "code",
   "execution_count": 22,
   "id": "4bb70c4f",
   "metadata": {},
   "outputs": [
    {
     "data": {
      "text/plain": [
       "<AxesSubplot:ylabel='Frequency'>"
      ]
     },
     "execution_count": 22,
     "metadata": {},
     "output_type": "execute_result"
    },
    {
     "data": {
      "image/png": "[encoded data removed]",
      "text/plain": [
       "<Figure size 432x288 with 1 Axes>"
      ]
     },
     "metadata": {
      "needs_background": "light"
     },
     "output_type": "display_data"
    }
   ],
   "source": [
    "# Plotting histogram of a variable\n",
    "\n",
    "file1.salaire.plot(kind=\"hist\")"
   ]
  },
  {
   "cell_type": "code",
   "execution_count": 23,
   "id": "06037fdf",
   "metadata": {},
   "outputs": [
    {
     "data": {
      "text/plain": [
       "<AxesSubplot:ylabel='Frequency'>"
      ]
     },
     "execution_count": 23,
     "metadata": {},
     "output_type": "execute_result"
    },
    {
     "data": {
      "image/png": "[encoded data removed]",
      "text/plain": [
       "<Figure size 432x288 with 1 Axes>"
      ]
     },
     "metadata": {
      "needs_background": "light"
     },
     "output_type": "display_data"
    }
   ],
   "source": [
    "# Plotting histogram of a variable\n",
    "\n",
    "file1.note.plot(kind=\"hist\")"
   ]
  },
  {
   "cell_type": "code",
   "execution_count": 24,
   "id": "2fdfdab3",
   "metadata": {
    "scrolled": false
   },
   "outputs": [
    {
     "data": {
      "text/plain": [
       "Text(0.5, 1.0, 'Histograma do Hired')"
      ]
     },
     "execution_count": 24,
     "metadata": {},
     "output_type": "execute_result"
    },
    {
     "data": {
      "image/png": "[encoded data removed]",
      "text/plain": [
       "<Figure size 432x288 with 1 Axes>"
      ]
     },
     "metadata": {
      "needs_background": "light"
     },
     "output_type": "display_data"
    }
   ],
   "source": [
    "# Plotting histogram of a variable with Title\n",
    "\n",
    "file1.embauche.plot(kind=\"hist\")\n",
    "plt.title(\"Histograma do Hired\")"
   ]
  },
  {
   "cell_type": "code",
   "execution_count": 25,
   "id": "99f4b4df",
   "metadata": {
    "scrolled": true
   },
   "outputs": [
    {
     "data": {
      "text/html": [
       "<div>\n",
       "<style scoped>\n",
       "    .dataframe tbody tr th:only-of-type {\n",
       "        vertical-align: middle;\n",
       "    }\n",
       "\n",
       "    .dataframe tbody tr th {\n",
       "        vertical-align: top;\n",
       "    }\n",
       "\n",
       "    .dataframe thead th {\n",
       "        text-align: right;\n",
       "    }\n",
       "</style>\n",
       "<table border=\"1\" class=\"dataframe\">\n",
       "  <thead>\n",
       "    <tr style=\"text-align: right;\">\n",
       "      <th></th>\n",
       "      <th>age</th>\n",
       "      <th>exp</th>\n",
       "      <th>salaire</th>\n",
       "      <th>note</th>\n",
       "      <th>embauche</th>\n",
       "    </tr>\n",
       "  </thead>\n",
       "  <tbody>\n",
       "    <tr>\n",
       "      <th>age</th>\n",
       "      <td>1.000000</td>\n",
       "      <td>-0.002775</td>\n",
       "      <td>0.001157</td>\n",
       "      <td>-0.007500</td>\n",
       "      <td>-0.011597</td>\n",
       "    </tr>\n",
       "    <tr>\n",
       "      <th>exp</th>\n",
       "      <td>-0.002775</td>\n",
       "      <td>1.000000</td>\n",
       "      <td>0.009658</td>\n",
       "      <td>-0.012127</td>\n",
       "      <td>0.006592</td>\n",
       "    </tr>\n",
       "    <tr>\n",
       "      <th>salaire</th>\n",
       "      <td>0.001157</td>\n",
       "      <td>0.009658</td>\n",
       "      <td>1.000000</td>\n",
       "      <td>-0.446044</td>\n",
       "      <td>0.002338</td>\n",
       "    </tr>\n",
       "    <tr>\n",
       "      <th>note</th>\n",
       "      <td>-0.007500</td>\n",
       "      <td>-0.012127</td>\n",
       "      <td>-0.446044</td>\n",
       "      <td>1.000000</td>\n",
       "      <td>0.003009</td>\n",
       "    </tr>\n",
       "    <tr>\n",
       "      <th>embauche</th>\n",
       "      <td>-0.011597</td>\n",
       "      <td>0.006592</td>\n",
       "      <td>0.002338</td>\n",
       "      <td>0.003009</td>\n",
       "      <td>1.000000</td>\n",
       "    </tr>\n",
       "  </tbody>\n",
       "</table>\n",
       "</div>"
      ],
      "text/plain": [
       "               age       exp   salaire      note  embauche\n",
       "age       1.000000 -0.002775  0.001157 -0.007500 -0.011597\n",
       "exp      -0.002775  1.000000  0.009658 -0.012127  0.006592\n",
       "salaire   0.001157  0.009658  1.000000 -0.446044  0.002338\n",
       "note     -0.007500 -0.012127 -0.446044  1.000000  0.003009\n",
       "embauche -0.011597  0.006592  0.002338  0.003009  1.000000"
      ]
     },
     "execution_count": 25,
     "metadata": {},
     "output_type": "execute_result"
    }
   ],
   "source": [
    "# Checking if there is any correlation between numerical variables\n",
    "\n",
    "correlation1 = file1.corr()\n",
    "correlation1"
   ]
  },
  {
   "cell_type": "code",
   "execution_count": 26,
   "id": "5b1523eb",
   "metadata": {},
   "outputs": [
    {
     "name": "stdout",
     "output_type": "stream",
     "text": [
      "embauche\n"
     ]
    },
    {
     "data": {
      "text/html": [
       "<div>\n",
       "<style scoped>\n",
       "    .dataframe tbody tr th:only-of-type {\n",
       "        vertical-align: middle;\n",
       "    }\n",
       "\n",
       "    .dataframe tbody tr th {\n",
       "        vertical-align: top;\n",
       "    }\n",
       "\n",
       "    .dataframe thead th {\n",
       "        text-align: right;\n",
       "    }\n",
       "</style>\n",
       "<table border=\"1\" class=\"dataframe\">\n",
       "  <thead>\n",
       "    <tr style=\"text-align: right;\">\n",
       "      <th></th>\n",
       "      <th>hired</th>\n",
       "      <th>total</th>\n",
       "    </tr>\n",
       "  </thead>\n",
       "  <tbody>\n",
       "    <tr>\n",
       "      <th>0</th>\n",
       "      <td>0</td>\n",
       "      <td>17708</td>\n",
       "    </tr>\n",
       "    <tr>\n",
       "      <th>1</th>\n",
       "      <td>1</td>\n",
       "      <td>2292</td>\n",
       "    </tr>\n",
       "  </tbody>\n",
       "</table>\n",
       "</div>"
      ],
      "text/plain": [
       "   hired  total\n",
       "0      0  17708\n",
       "1      1   2292"
      ]
     },
     "execution_count": 26,
     "metadata": {},
     "output_type": "execute_result"
    }
   ],
   "source": [
    "print(\"embauche\")\n",
    "cont_hired = file1.embauche.value_counts().to_frame().reset_index()\n",
    "cont_hired.columns = [\"hired\", \"total\"]\n",
    "cont_hired.head()"
   ]
  },
  {
   "cell_type": "code",
   "execution_count": 27,
   "id": "130be74e",
   "metadata": {},
   "outputs": [
    {
     "name": "stdout",
     "output_type": "stream",
     "text": [
      "age\n"
     ]
    },
    {
     "data": {
      "text/html": [
       "<div>\n",
       "<style scoped>\n",
       "    .dataframe tbody tr th:only-of-type {\n",
       "        vertical-align: middle;\n",
       "    }\n",
       "\n",
       "    .dataframe tbody tr th {\n",
       "        vertical-align: top;\n",
       "    }\n",
       "\n",
       "    .dataframe thead th {\n",
       "        text-align: right;\n",
       "    }\n",
       "</style>\n",
       "<table border=\"1\" class=\"dataframe\">\n",
       "  <thead>\n",
       "    <tr style=\"text-align: right;\">\n",
       "      <th></th>\n",
       "      <th>age</th>\n",
       "      <th>total</th>\n",
       "    </tr>\n",
       "  </thead>\n",
       "  <tbody>\n",
       "    <tr>\n",
       "      <th>0</th>\n",
       "      <td>35.0</td>\n",
       "      <td>1593</td>\n",
       "    </tr>\n",
       "    <tr>\n",
       "      <th>1</th>\n",
       "      <td>34.0</td>\n",
       "      <td>797</td>\n",
       "    </tr>\n",
       "    <tr>\n",
       "      <th>2</th>\n",
       "      <td>36.0</td>\n",
       "      <td>792</td>\n",
       "    </tr>\n",
       "    <tr>\n",
       "      <th>3</th>\n",
       "      <td>33.0</td>\n",
       "      <td>786</td>\n",
       "    </tr>\n",
       "    <tr>\n",
       "      <th>4</th>\n",
       "      <td>32.0</td>\n",
       "      <td>762</td>\n",
       "    </tr>\n",
       "  </tbody>\n",
       "</table>\n",
       "</div>"
      ],
      "text/plain": [
       "    age  total\n",
       "0  35.0   1593\n",
       "1  34.0    797\n",
       "2  36.0    792\n",
       "3  33.0    786\n",
       "4  32.0    762"
      ]
     },
     "execution_count": 27,
     "metadata": {},
     "output_type": "execute_result"
    }
   ],
   "source": [
    "print(\"age\")\n",
    "cont_age = file1.age.value_counts().to_frame().reset_index()\n",
    "cont_age.columns = [\"age\", \"total\"]\n",
    "cont_age.head()"
   ]
  },
  {
   "cell_type": "code",
   "execution_count": 28,
   "id": "d58fa58f",
   "metadata": {},
   "outputs": [
    {
     "name": "stdout",
     "output_type": "stream",
     "text": [
      "exp\n"
     ]
    },
    {
     "data": {
      "text/html": [
       "<div>\n",
       "<style scoped>\n",
       "    .dataframe tbody tr th:only-of-type {\n",
       "        vertical-align: middle;\n",
       "    }\n",
       "\n",
       "    .dataframe tbody tr th {\n",
       "        vertical-align: top;\n",
       "    }\n",
       "\n",
       "    .dataframe thead th {\n",
       "        text-align: right;\n",
       "    }\n",
       "</style>\n",
       "<table border=\"1\" class=\"dataframe\">\n",
       "  <thead>\n",
       "    <tr style=\"text-align: right;\">\n",
       "      <th></th>\n",
       "      <th>exp</th>\n",
       "      <th>total</th>\n",
       "    </tr>\n",
       "  </thead>\n",
       "  <tbody>\n",
       "    <tr>\n",
       "      <th>0</th>\n",
       "      <td>9.0</td>\n",
       "      <td>2638</td>\n",
       "    </tr>\n",
       "    <tr>\n",
       "      <th>1</th>\n",
       "      <td>10.0</td>\n",
       "      <td>2475</td>\n",
       "    </tr>\n",
       "    <tr>\n",
       "      <th>2</th>\n",
       "      <td>11.0</td>\n",
       "      <td>2371</td>\n",
       "    </tr>\n",
       "    <tr>\n",
       "      <th>3</th>\n",
       "      <td>8.0</td>\n",
       "      <td>2346</td>\n",
       "    </tr>\n",
       "    <tr>\n",
       "      <th>4</th>\n",
       "      <td>7.0</td>\n",
       "      <td>1878</td>\n",
       "    </tr>\n",
       "  </tbody>\n",
       "</table>\n",
       "</div>"
      ],
      "text/plain": [
       "    exp  total\n",
       "0   9.0   2638\n",
       "1  10.0   2475\n",
       "2  11.0   2371\n",
       "3   8.0   2346\n",
       "4   7.0   1878"
      ]
     },
     "execution_count": 28,
     "metadata": {},
     "output_type": "execute_result"
    }
   ],
   "source": [
    "print(\"exp\")\n",
    "cont_exp = file1.exp.value_counts().to_frame().reset_index()\n",
    "cont_exp.columns = [\"exp\", \"total\"]\n",
    "cont_exp.head()"
   ]
  },
  {
   "cell_type": "code",
   "execution_count": 29,
   "id": "409dd955",
   "metadata": {},
   "outputs": [
    {
     "data": {
      "text/plain": [
       "<AxesSubplot:xlabel='exp', ylabel='total'>"
      ]
     },
     "execution_count": 29,
     "metadata": {},
     "output_type": "execute_result"
    },
    {
     "data": {
      "image/png": "[encoded data removed]",
      "text/plain": [
       "<Figure size 432x288 with 1 Axes>"
      ]
     },
     "metadata": {
      "needs_background": "light"
     },
     "output_type": "display_data"
    }
   ],
   "source": [
    "sns.barplot(x=\"exp\",y = \"total\",data = cont_exp)"
   ]
  },
  {
   "cell_type": "code",
   "execution_count": 30,
   "id": "c709b269",
   "metadata": {},
   "outputs": [
    {
     "data": {
      "text/plain": [
       "<seaborn.axisgrid.FacetGrid at 0x7fed12eea7c0>"
      ]
     },
     "execution_count": 30,
     "metadata": {},
     "output_type": "execute_result"
    },
    {
     "data": {
      "image/png": "[encoded data removed]",
      "text/plain": [
       "<Figure size 360x360 with 1 Axes>"
      ]
     },
     "metadata": {
      "needs_background": "light"
     },
     "output_type": "display_data"
    }
   ],
   "source": [
    "sns.catplot(x=\"diplome\", kind = \"count\", data = file1)"
   ]
  },
  {
   "cell_type": "code",
   "execution_count": 31,
   "id": "60dc414f",
   "metadata": {},
   "outputs": [
    {
     "data": {
      "text/plain": [
       "<seaborn.axisgrid.FacetGrid at 0x7fed12de0b50>"
      ]
     },
     "execution_count": 31,
     "metadata": {},
     "output_type": "execute_result"
    },
    {
     "data": {
      "image/png": "[encoded data removed]",
      "text/plain": [
       "<Figure size 360x360 with 1 Axes>"
      ]
     },
     "metadata": {
      "needs_background": "light"
     },
     "output_type": "display_data"
    }
   ],
   "source": [
    "sns.catplot(x=\"sexe\", kind = \"count\", data = file1)"
   ]
  },
  {
   "cell_type": "code",
   "execution_count": 32,
   "id": "34bf875f",
   "metadata": {},
   "outputs": [
    {
     "data": {
      "text/plain": [
       "<seaborn.axisgrid.FacetGrid at 0x7fecd03d62e0>"
      ]
     },
     "execution_count": 32,
     "metadata": {},
     "output_type": "execute_result"
    },
    {
     "data": {
      "image/png": "[encoded data removed]",
      "text/plain": [
       "<Figure size 360x360 with 1 Axes>"
      ]
     },
     "metadata": {
      "needs_background": "light"
     },
     "output_type": "display_data"
    }
   ],
   "source": [
    "sns.catplot(x=\"specialite\", kind = \"count\", data = file1)"
   ]
  },
  {
   "cell_type": "code",
   "execution_count": 33,
   "id": "07fcfe5f",
   "metadata": {},
   "outputs": [
    {
     "data": {
      "text/plain": [
       "<seaborn.axisgrid.FacetGrid at 0x7fed027f4df0>"
      ]
     },
     "execution_count": 33,
     "metadata": {},
     "output_type": "execute_result"
    },
    {
     "data": {
      "image/png": "[encoded data removed]",
      "text/plain": [
       "<Figure size 360x360 with 1 Axes>"
      ]
     },
     "metadata": {
      "needs_background": "light"
     },
     "output_type": "display_data"
    }
   ],
   "source": [
    "sns.catplot(x=\"cheveux\", kind = \"count\", data = file1)"
   ]
  },
  {
   "cell_type": "code",
   "execution_count": 34,
   "id": "bfe169a9",
   "metadata": {
    "scrolled": true
   },
   "outputs": [
    {
     "data": {
      "text/plain": [
       "<seaborn.axisgrid.FacetGrid at 0x7fecd0ed1bb0>"
      ]
     },
     "execution_count": 34,
     "metadata": {},
     "output_type": "execute_result"
    },
    {
     "data": {
      "image/png": "[encoded data removed]",
      "text/plain": [
       "<Figure size 360x360 with 1 Axes>"
      ]
     },
     "metadata": {
      "needs_background": "light"
     },
     "output_type": "display_data"
    }
   ],
   "source": [
    "sns.catplot(x=\"dispo\", kind = \"count\", data = file1)"
   ]
  },
  {
   "cell_type": "code",
   "execution_count": 35,
   "id": "b5264ff8",
   "metadata": {
    "scrolled": true
   },
   "outputs": [
    {
     "name": "stdout",
     "output_type": "stream",
     "text": [
      "<class 'pandas.core.frame.DataFrame'>\n",
      "Int64Index: 20000 entries, 0 to 19999\n",
      "Data columns (total 11 columns):\n",
      " #   Column      Non-Null Count  Dtype         \n",
      "---  ------      --------------  -----         \n",
      " 0   date        20000 non-null  datetime64[ns]\n",
      " 1   cheveux     20000 non-null  object        \n",
      " 2   age         20000 non-null  float64       \n",
      " 3   exp         20000 non-null  float64       \n",
      " 4   salaire     20000 non-null  float64       \n",
      " 5   sexe        20000 non-null  object        \n",
      " 6   diplome     20000 non-null  object        \n",
      " 7   specialite  20000 non-null  object        \n",
      " 8   note        20000 non-null  float64       \n",
      " 9   dispo       20000 non-null  object        \n",
      " 10  embauche    20000 non-null  int64         \n",
      "dtypes: datetime64[ns](1), float64(4), int64(1), object(5)\n",
      "memory usage: 2.3+ MB\n"
     ]
    }
   ],
   "source": [
    "file1.info()"
   ]
  },
  {
   "cell_type": "code",
   "execution_count": 36,
   "id": "e2ce38c3",
   "metadata": {},
   "outputs": [],
   "source": [
    "cheveux = pd.get_dummies(file1[\"cheveux\"], drop_first=True)\n",
    "sexe = pd.get_dummies(file1[\"sexe\"], drop_first=True)\n",
    "diplome = pd.get_dummies(file1[\"diplome\"], drop_first=True)\n",
    "specialite = pd.get_dummies(file1[\"specialite\"], drop_first=True)\n",
    "dispo = pd.get_dummies(file1[\"dispo\"], drop_first=True)\n",
    "\n",
    "file1.drop([\"cheveux\", \"sexe\", \"diplome\", \"specialite\", \"dispo\"], axis = 1, inplace = True)\n",
    "\n",
    "file1 = pd.concat([file1, cheveux, sexe, diplome, specialite, dispo], axis=1)"
   ]
  },
  {
   "cell_type": "code",
   "execution_count": 37,
   "id": "2a466167",
   "metadata": {},
   "outputs": [
    {
     "name": "stdout",
     "output_type": "stream",
     "text": [
      "<class 'pandas.core.frame.DataFrame'>\n",
      "Int64Index: 20000 entries, 0 to 19999\n",
      "Data columns (total 17 columns):\n",
      " #   Column     Non-Null Count  Dtype         \n",
      "---  ------     --------------  -----         \n",
      " 0   date       20000 non-null  datetime64[ns]\n",
      " 1   age        20000 non-null  float64       \n",
      " 2   exp        20000 non-null  float64       \n",
      " 3   salaire    20000 non-null  float64       \n",
      " 4   note       20000 non-null  float64       \n",
      " 5   embauche   20000 non-null  int64         \n",
      " 6   brun       20000 non-null  uint8         \n",
      " 7   chatain    20000 non-null  uint8         \n",
      " 8   roux       20000 non-null  uint8         \n",
      " 9   M          20000 non-null  uint8         \n",
      " 10  doctorat   20000 non-null  uint8         \n",
      " 11  licence    20000 non-null  uint8         \n",
      " 12  master     20000 non-null  uint8         \n",
      " 13  detective  20000 non-null  uint8         \n",
      " 14  forage     20000 non-null  uint8         \n",
      " 15  geologie   20000 non-null  uint8         \n",
      " 16  oui        20000 non-null  uint8         \n",
      "dtypes: datetime64[ns](1), float64(4), int64(1), uint8(11)\n",
      "memory usage: 1.8 MB\n",
      "Index(['date', 'age', 'exp', 'salaire', 'note', 'embauche', 'brun', 'chatain',\n",
      "       'roux', 'M', 'doctorat', 'licence', 'master', 'detective', 'forage',\n",
      "       'geologie', 'oui'],\n",
      "      dtype='object')\n"
     ]
    }
   ],
   "source": [
    "file1.info()\n",
    "print(file1.columns)"
   ]
  },
  {
   "cell_type": "code",
   "execution_count": 38,
   "id": "12d452e7",
   "metadata": {},
   "outputs": [
    {
     "data": {
      "text/html": [
       "<div>\n",
       "<style scoped>\n",
       "    .dataframe tbody tr th:only-of-type {\n",
       "        vertical-align: middle;\n",
       "    }\n",
       "\n",
       "    .dataframe tbody tr th {\n",
       "        vertical-align: top;\n",
       "    }\n",
       "\n",
       "    .dataframe thead th {\n",
       "        text-align: right;\n",
       "    }\n",
       "</style>\n",
       "<table border=\"1\" class=\"dataframe\">\n",
       "  <thead>\n",
       "    <tr style=\"text-align: right;\">\n",
       "      <th></th>\n",
       "      <th>date</th>\n",
       "      <th>age</th>\n",
       "      <th>exp</th>\n",
       "      <th>salaire</th>\n",
       "      <th>note</th>\n",
       "      <th>embauche</th>\n",
       "      <th>brun</th>\n",
       "      <th>chatain</th>\n",
       "      <th>roux</th>\n",
       "      <th>M</th>\n",
       "      <th>doctorat</th>\n",
       "      <th>licence</th>\n",
       "      <th>master</th>\n",
       "      <th>detective</th>\n",
       "      <th>forage</th>\n",
       "      <th>geologie</th>\n",
       "      <th>oui</th>\n",
       "    </tr>\n",
       "  </thead>\n",
       "  <tbody>\n",
       "    <tr>\n",
       "      <th>0</th>\n",
       "      <td>2012-06-02</td>\n",
       "      <td>25.000000</td>\n",
       "      <td>9.0</td>\n",
       "      <td>26803.0</td>\n",
       "      <td>97.08</td>\n",
       "      <td>0</td>\n",
       "      <td>0</td>\n",
       "      <td>0</td>\n",
       "      <td>1</td>\n",
       "      <td>0</td>\n",
       "      <td>0</td>\n",
       "      <td>1</td>\n",
       "      <td>0</td>\n",
       "      <td>0</td>\n",
       "      <td>0</td>\n",
       "      <td>1</td>\n",
       "      <td>0</td>\n",
       "    </tr>\n",
       "    <tr>\n",
       "      <th>1</th>\n",
       "      <td>2011-04-21</td>\n",
       "      <td>35.000000</td>\n",
       "      <td>13.0</td>\n",
       "      <td>38166.0</td>\n",
       "      <td>63.86</td>\n",
       "      <td>0</td>\n",
       "      <td>0</td>\n",
       "      <td>0</td>\n",
       "      <td>0</td>\n",
       "      <td>1</td>\n",
       "      <td>0</td>\n",
       "      <td>1</td>\n",
       "      <td>0</td>\n",
       "      <td>0</td>\n",
       "      <td>1</td>\n",
       "      <td>0</td>\n",
       "      <td>0</td>\n",
       "    </tr>\n",
       "    <tr>\n",
       "      <th>2</th>\n",
       "      <td>2012-09-07</td>\n",
       "      <td>29.000000</td>\n",
       "      <td>13.0</td>\n",
       "      <td>35207.0</td>\n",
       "      <td>78.50</td>\n",
       "      <td>0</td>\n",
       "      <td>0</td>\n",
       "      <td>0</td>\n",
       "      <td>0</td>\n",
       "      <td>1</td>\n",
       "      <td>0</td>\n",
       "      <td>1</td>\n",
       "      <td>0</td>\n",
       "      <td>0</td>\n",
       "      <td>0</td>\n",
       "      <td>1</td>\n",
       "      <td>0</td>\n",
       "    </tr>\n",
       "    <tr>\n",
       "      <th>3</th>\n",
       "      <td>2011-07-01</td>\n",
       "      <td>35.004521</td>\n",
       "      <td>12.0</td>\n",
       "      <td>32442.0</td>\n",
       "      <td>45.09</td>\n",
       "      <td>0</td>\n",
       "      <td>1</td>\n",
       "      <td>0</td>\n",
       "      <td>0</td>\n",
       "      <td>1</td>\n",
       "      <td>0</td>\n",
       "      <td>1</td>\n",
       "      <td>0</td>\n",
       "      <td>0</td>\n",
       "      <td>0</td>\n",
       "      <td>1</td>\n",
       "      <td>0</td>\n",
       "    </tr>\n",
       "    <tr>\n",
       "      <th>4</th>\n",
       "      <td>2012-08-07</td>\n",
       "      <td>35.000000</td>\n",
       "      <td>6.0</td>\n",
       "      <td>28533.0</td>\n",
       "      <td>81.91</td>\n",
       "      <td>0</td>\n",
       "      <td>0</td>\n",
       "      <td>0</td>\n",
       "      <td>1</td>\n",
       "      <td>0</td>\n",
       "      <td>0</td>\n",
       "      <td>1</td>\n",
       "      <td>0</td>\n",
       "      <td>1</td>\n",
       "      <td>0</td>\n",
       "      <td>0</td>\n",
       "      <td>0</td>\n",
       "    </tr>\n",
       "  </tbody>\n",
       "</table>\n",
       "</div>"
      ],
      "text/plain": [
       "        date        age   exp  salaire   note  embauche  brun  chatain  roux  \\\n",
       "0 2012-06-02  25.000000   9.0  26803.0  97.08         0     0        0     1   \n",
       "1 2011-04-21  35.000000  13.0  38166.0  63.86         0     0        0     0   \n",
       "2 2012-09-07  29.000000  13.0  35207.0  78.50         0     0        0     0   \n",
       "3 2011-07-01  35.004521  12.0  32442.0  45.09         0     1        0     0   \n",
       "4 2012-08-07  35.000000   6.0  28533.0  81.91         0     0        0     1   \n",
       "\n",
       "   M  doctorat  licence  master  detective  forage  geologie  oui  \n",
       "0  0         0        1       0          0       0         1    0  \n",
       "1  1         0        1       0          0       1         0    0  \n",
       "2  1         0        1       0          0       0         1    0  \n",
       "3  1         0        1       0          0       0         1    0  \n",
       "4  0         0        1       0          1       0         0    0  "
      ]
     },
     "execution_count": 38,
     "metadata": {},
     "output_type": "execute_result"
    }
   ],
   "source": [
    "file1.head()"
   ]
  },
  {
   "cell_type": "markdown",
   "id": "55cb1310",
   "metadata": {},
   "source": [
    "# Vamos criar o modelo"
   ]
  },
  {
   "cell_type": "code",
   "execution_count": 51,
   "id": "8a0379df",
   "metadata": {},
   "outputs": [],
   "source": [
    "from sklearn.model_selection import train_test_split\n",
    "from sklearn.linear_model import LogisticRegression\n",
    "from sklearn.metrics import classification_report\n",
    "import numpy as np\n",
    "import matplotlib.pyplot as plt\n",
    "from sklearn.metrics import accuracy_score\n",
    "from sklearn.metrics import confusion_matrix\n"
   ]
  },
  {
   "cell_type": "code",
   "execution_count": 40,
   "id": "7a74d339",
   "metadata": {},
   "outputs": [],
   "source": [
    "# Splitting dataset to x and y\n",
    "\n",
    "\n",
    "y= file1.embauche\n",
    "x= file1.drop(['embauche', \"date\"],axis=1)\n",
    "\n"
   ]
  },
  {
   "cell_type": "code",
   "execution_count": 41,
   "id": "24fc112d",
   "metadata": {},
   "outputs": [],
   "source": [
    "# Let's use Logistic Regression in this case\n",
    "# Defining my model\n",
    "model = LogisticRegression(C = 0.000001) #default C number\n",
    "\n",
    "# Divide the data into the training and testing set and train the model\n",
    "x_train, x_test, y_train, y_test = train_test_split(x, y, test_size=0.2, random_state=0)\n",
    "\n",
    "# Fitting the model\n",
    "model.fit(x_train, y_train)\n",
    "\n",
    "# Generate predictions on the test set\n",
    "predictions_test = model.predict(x_test)\n",
    "\n"
   ]
  },
  {
   "cell_type": "code",
   "execution_count": 53,
   "id": "ab594a82",
   "metadata": {},
   "outputs": [
    {
     "name": "stdout",
     "output_type": "stream",
     "text": [
      "[[3556    0]\n",
      " [ 444    0]]\n"
     ]
    }
   ],
   "source": [
    "cm1 = confusion_matrix(y_test, predictions_test)\n",
    "print(cm1)"
   ]
  },
  {
   "cell_type": "code",
   "execution_count": 54,
   "id": "5f8bd428",
   "metadata": {
    "scrolled": true
   },
   "outputs": [
    {
     "name": "stdout",
     "output_type": "stream",
     "text": [
      "              precision    recall  f1-score   support\n",
      "\n",
      "           0       0.89      1.00      0.94      3556\n",
      "           1       0.00      0.00      0.00       444\n",
      "\n",
      "    accuracy                           0.89      4000\n",
      "   macro avg       0.44      0.50      0.47      4000\n",
      "weighted avg       0.79      0.89      0.84      4000\n",
      "\n"
     ]
    },
    {
     "name": "stderr",
     "output_type": "stream",
     "text": [
      "/Users/mariotsato/opt/anaconda3/lib/python3.9/site-packages/sklearn/metrics/_classification.py:1318: UndefinedMetricWarning: Precision and F-score are ill-defined and being set to 0.0 in labels with no predicted samples. Use `zero_division` parameter to control this behavior.\n",
      "  _warn_prf(average, modifier, msg_start, len(result))\n",
      "/Users/mariotsato/opt/anaconda3/lib/python3.9/site-packages/sklearn/metrics/_classification.py:1318: UndefinedMetricWarning: Precision and F-score are ill-defined and being set to 0.0 in labels with no predicted samples. Use `zero_division` parameter to control this behavior.\n",
      "  _warn_prf(average, modifier, msg_start, len(result))\n",
      "/Users/mariotsato/opt/anaconda3/lib/python3.9/site-packages/sklearn/metrics/_classification.py:1318: UndefinedMetricWarning: Precision and F-score are ill-defined and being set to 0.0 in labels with no predicted samples. Use `zero_division` parameter to control this behavior.\n",
      "  _warn_prf(average, modifier, msg_start, len(result))\n"
     ]
    }
   ],
   "source": [
    "print(classification_report(y_test, predictions_test))"
   ]
  },
  {
   "cell_type": "code",
   "execution_count": 55,
   "id": "9a5fa3f9",
   "metadata": {},
   "outputs": [
    {
     "name": "stdout",
     "output_type": "stream",
     "text": [
      "0.889\n"
     ]
    }
   ],
   "source": [
    "accuracy1 = accuracy_score(y_test, predictions_test)\n",
    "print(accuracy1)"
   ]
  }
 ],
 "metadata": {
  "kernelspec": {
   "display_name": "Python 3 (ipykernel)",
   "language": "python",
   "name": "python3"
  },
  "language_info": {
   "codemirror_mode": {
    "name": "ipython",
    "version": 3
   },
   "file_extension": ".py",
   "mimetype": "text/x-python",
   "name": "python",
   "nbconvert_exporter": "python",
   "pygments_lexer": "ipython3",
   "version": "3.9.7"
  }
 },
 "nbformat": 4,
 "nbformat_minor": 5
}
